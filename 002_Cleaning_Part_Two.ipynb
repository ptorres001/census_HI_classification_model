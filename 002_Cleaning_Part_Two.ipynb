{
 "cells": [
  {
   "cell_type": "code",
   "execution_count": 1,
   "metadata": {},
   "outputs": [],
   "source": [
    "import matplotlib.pyplot as plt\n",
    "from math import exp\n",
    "from scipy.stats import norm\n",
    "from scipy import stats\n",
    "import seaborn as sns\n",
    "import numpy as np \n",
    "import pandas as pd\n",
    "from sklearn.model_selection import train_test_split\n",
    "from sklearn.linear_model import LinearRegression\n",
    "from sklearn import metrics\n",
    "%matplotlib inline\n",
    "pd.set_option('display.max_columns', None)\n",
    "pd.set_option('display.max_rows', None)\n",
    "plt.rcParams[\"figure.figsize\"] = [10,5]\n",
    "import warnings\n",
    "warnings.filterwarnings(\"ignore\")"
   ]
  },
  {
   "cell_type": "code",
   "execution_count": 2,
   "metadata": {},
   "outputs": [],
   "source": [
    "df= pd.read_csv('nys_data.csv')"
   ]
  },
  {
   "cell_type": "code",
   "execution_count": 3,
   "metadata": {},
   "outputs": [],
   "source": [
    "conditions = [df['INDP'].str.startswith('AGR'), df['INDP'].str.startswith('EXT'), df['INDP'].str.startswith('UTL'),\n",
    "             df['INDP'].str.startswith('CON'), df['INDP'].str.startswith('MFG'), df['INDP'].str.startswith('WHL'),\n",
    "             df['INDP'].str.startswith('RET'), df['INDP'].str.startswith('TRN'), df['INDP'].str.startswith('INF'),\n",
    "             df['INDP'].str.startswith('FIN'), df['INDP'].str.startswith('PRF'), df['INDP'].str.startswith('EDU'),\n",
    "             df['INDP'].str.startswith('MED'),              \n",
    "             df['INDP'].str.startswith('SCA'), df['INDP'].str.startswith('ENT'), df['INDP'].str.startswith('SRV'),\n",
    "             df['INDP'].str.startswith('ADM'), df['INDP'].str.startswith('MIL'), df['INDP'].str.startswith('None')]\n",
    "choices = ['Agriculture', 'Extraction', 'Utilities',\n",
    "          'Construction', 'Manufacturing', 'Wholesale',\n",
    "          'Retail', 'Transportation', 'Information',\n",
    "          'Finance', 'Professional', 'Education',\n",
    "          'Medical',\n",
    "          'Social Service', 'Entertainment', 'Service',\n",
    "          'Administration', 'Military', 'None']\n",
    "df['INDUSTRY'] = np.select(conditions, choices, 'None')\n",
    "\n"
   ]
  },
  {
   "cell_type": "code",
   "execution_count": null,
   "metadata": {},
   "outputs": [],
   "source": []
  },
  {
   "cell_type": "code",
   "execution_count": null,
   "metadata": {},
   "outputs": [],
   "source": []
  },
  {
   "cell_type": "code",
   "execution_count": 4,
   "metadata": {},
   "outputs": [],
   "source": [
    "df.to_csv('nys_data.csv')"
   ]
  },
  {
   "cell_type": "code",
   "execution_count": null,
   "metadata": {},
   "outputs": [],
   "source": []
  }
 ],
 "metadata": {
  "kernelspec": {
   "display_name": "Python 3",
   "language": "python",
   "name": "python3"
  },
  "language_info": {
   "codemirror_mode": {
    "name": "ipython",
    "version": 3
   },
   "file_extension": ".py",
   "mimetype": "text/x-python",
   "name": "python",
   "nbconvert_exporter": "python",
   "pygments_lexer": "ipython3",
   "version": "3.8.3"
  }
 },
 "nbformat": 4,
 "nbformat_minor": 4
}

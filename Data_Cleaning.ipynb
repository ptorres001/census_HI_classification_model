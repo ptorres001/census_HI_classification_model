{
 "cells": [
  {
   "cell_type": "markdown",
   "metadata": {},
   "source": [
    "# Data Cleaning\n",
    "_Paul Torres & Albert Um - DS Flatiron cohort 06/22/20_ <br>\n",
    "For the sake of efficiency, we divided the work by:\n",
    "1. Split ALL columns\n",
    "2. Each person works on their respective columns\n",
    "3. Merge the joined columns\n",
    "4. Feature Engineer independently and merge dataframes EOD(end of day)\n",
    "5. Repeat step 4"
   ]
  },
  {
   "cell_type": "markdown",
   "metadata": {},
   "source": [
    "## Work Flow:\n",
    "_Split -> Merge(commit1) -> Split(commit1) -> Merge(commit2) -> ..._<br>\n",
    "psam_p36.csv contains 196,967 rows and 286 columns<br>\n",
    "<br>\n",
    "The finished dataframe has 159,299 rows and 91 columns<br>\n",
    "Rows with Age less than 17 have been dropped."
   ]
  },
  {
   "cell_type": "code",
   "execution_count": 1,
   "metadata": {},
   "outputs": [
    {
     "name": "stdout",
     "output_type": "stream",
     "text": [
      "Data is loaded.\n"
     ]
    }
   ],
   "source": [
    "import pandas as pd\n",
    "df_al = pd.read_csv('archive/psam_p36.csv')\n",
    "df_paul = pd.read_csv('archive/psam_p36.csv')\n",
    "df_al.shape\n",
    "print('Data is loaded.')"
   ]
  },
  {
   "cell_type": "markdown",
   "metadata": {},
   "source": [
    "## Table of Contents\n",
    "1. Import Libraries\n",
    "2. Paul's Section\n",
    "3. Albert's Section\n",
    "4. Merge Dataframes\n",
    "5. Additional Feature Engineering\n",
    "6. Dropped Columns"
   ]
  },
  {
   "cell_type": "markdown",
   "metadata": {},
   "source": [
    "### Import Libraries"
   ]
  },
  {
   "cell_type": "code",
   "execution_count": 2,
   "metadata": {},
   "outputs": [
    {
     "name": "stdout",
     "output_type": "stream",
     "text": [
      "Packages are loaded.\n"
     ]
    }
   ],
   "source": [
    "import matplotlib.pyplot as plt\n",
    "from math import exp\n",
    "from scipy.stats import norm\n",
    "from scipy import stats\n",
    "import seaborn as sns\n",
    "import numpy as np \n",
    "import pandas as pd\n",
    "from sklearn.model_selection import train_test_split\n",
    "from sklearn.linear_model import LinearRegression\n",
    "from sklearn import metrics\n",
    "import Helpers as helper\n",
    "%matplotlib inline\n",
    "# pd.set_option('display.max_columns', None)\n",
    "# pd.set_option('display.max_rows', None)\n",
    "plt.rcParams[\"figure.figsize\"] = [10,5]\n",
    "import warnings\n",
    "warnings.filterwarnings(\"ignore\")\n",
    "print('Packages are loaded.')"
   ]
  },
  {
   "cell_type": "markdown",
   "metadata": {},
   "source": [
    "### Paul's Section\n",
    "\n",
    "Custom Functions called from Helpers.py"
   ]
  },
  {
   "cell_type": "code",
   "execution_count": 3,
   "metadata": {},
   "outputs": [],
   "source": [
    "df_paul = helper.paul_pipeline(df_paul)"
   ]
  },
  {
   "cell_type": "markdown",
   "metadata": {},
   "source": [
    "---"
   ]
  },
  {
   "cell_type": "markdown",
   "metadata": {},
   "source": [
    "### Albert's Section\n",
    "\n",
    "Custom Functions called from Helpers.py"
   ]
  },
  {
   "cell_type": "code",
   "execution_count": 4,
   "metadata": {},
   "outputs": [],
   "source": [
    "df_al = helper.alberts_turn(df_al)"
   ]
  },
  {
   "cell_type": "markdown",
   "metadata": {},
   "source": [
    "---"
   ]
  },
  {
   "cell_type": "markdown",
   "metadata": {},
   "source": [
    "### Merge DataFrames\n"
   ]
  },
  {
   "cell_type": "code",
   "execution_count": 5,
   "metadata": {},
   "outputs": [],
   "source": [
    "nys = pd.merge(df_al, df_paul, left_index=True, right_index=True)\n",
    "del df_al\n",
    "del df_paul"
   ]
  },
  {
   "cell_type": "markdown",
   "metadata": {},
   "source": [
    "### Additional Feature Engineering"
   ]
  },
  {
   "cell_type": "code",
   "execution_count": 6,
   "metadata": {},
   "outputs": [],
   "source": [
    "# Features from the Census Housing dataset is taken: \n",
    "house_df = pd.read_csv('archive/psam_h36.csv')"
   ]
  },
  {
   "cell_type": "code",
   "execution_count": 7,
   "metadata": {},
   "outputs": [],
   "source": [
    "house_df['FINCP'] = house_df['FINCP'].fillna(0)\n",
    "house_df['HINCP'] = house_df['HINCP'].fillna(0)\n"
   ]
  },
  {
   "cell_type": "code",
   "execution_count": 9,
   "metadata": {},
   "outputs": [
    {
     "data": {
      "text/plain": [
       "(159299, 196)"
      ]
     },
     "metadata": {},
     "output_type": "display_data"
    },
    {
     "data": {
      "text/html": [
       "<div>\n",
       "<style scoped>\n",
       "    .dataframe tbody tr th:only-of-type {\n",
       "        vertical-align: middle;\n",
       "    }\n",
       "\n",
       "    .dataframe tbody tr th {\n",
       "        vertical-align: top;\n",
       "    }\n",
       "\n",
       "    .dataframe thead th {\n",
       "        text-align: right;\n",
       "    }\n",
       "</style>\n",
       "<table border=\"1\" class=\"dataframe\">\n",
       "  <thead>\n",
       "    <tr style=\"text-align: right;\">\n",
       "      <th></th>\n",
       "      <th>RT_x</th>\n",
       "      <th>SERIALNO</th>\n",
       "      <th>SPORDER_x</th>\n",
       "      <th>PUMA_x</th>\n",
       "      <th>ADJINC_x</th>\n",
       "      <th>PWGTP_x</th>\n",
       "      <th>AGEP</th>\n",
       "      <th>CIT</th>\n",
       "      <th>DEYE</th>\n",
       "      <th>HINS4</th>\n",
       "      <th>...</th>\n",
       "      <th>NP</th>\n",
       "      <th>TYPE</th>\n",
       "      <th>FINCP</th>\n",
       "      <th>HINCP</th>\n",
       "      <th>RACES</th>\n",
       "      <th>MIL_STAT</th>\n",
       "      <th>INDUSTRY</th>\n",
       "      <th>SOCP_recat</th>\n",
       "      <th>MAR_YEARS</th>\n",
       "      <th>AGE_cat</th>\n",
       "    </tr>\n",
       "  </thead>\n",
       "  <tbody>\n",
       "    <tr>\n",
       "      <th>0</th>\n",
       "      <td>P</td>\n",
       "      <td>2018GQ0000012</td>\n",
       "      <td>1</td>\n",
       "      <td>3802</td>\n",
       "      <td>1013097</td>\n",
       "      <td>145</td>\n",
       "      <td>26</td>\n",
       "      <td>5</td>\n",
       "      <td>2</td>\n",
       "      <td>2</td>\n",
       "      <td>...</td>\n",
       "      <td>1</td>\n",
       "      <td>3</td>\n",
       "      <td>0.0</td>\n",
       "      <td>0.0</td>\n",
       "      <td>White</td>\n",
       "      <td>Served</td>\n",
       "      <td>Education</td>\n",
       "      <td>OFF</td>\n",
       "      <td>0.0</td>\n",
       "      <td>Under 40</td>\n",
       "    </tr>\n",
       "    <tr>\n",
       "      <th>1</th>\n",
       "      <td>P</td>\n",
       "      <td>2018GQ0000040</td>\n",
       "      <td>1</td>\n",
       "      <td>2702</td>\n",
       "      <td>1013097</td>\n",
       "      <td>43</td>\n",
       "      <td>21</td>\n",
       "      <td>1</td>\n",
       "      <td>2</td>\n",
       "      <td>2</td>\n",
       "      <td>...</td>\n",
       "      <td>1</td>\n",
       "      <td>3</td>\n",
       "      <td>0.0</td>\n",
       "      <td>0.0</td>\n",
       "      <td>White</td>\n",
       "      <td>Served</td>\n",
       "      <td>Entertainment</td>\n",
       "      <td>EAT</td>\n",
       "      <td>0.0</td>\n",
       "      <td>Under 40</td>\n",
       "    </tr>\n",
       "    <tr>\n",
       "      <th>2</th>\n",
       "      <td>P</td>\n",
       "      <td>2018GQ0000060</td>\n",
       "      <td>1</td>\n",
       "      <td>2001</td>\n",
       "      <td>1013097</td>\n",
       "      <td>88</td>\n",
       "      <td>18</td>\n",
       "      <td>2</td>\n",
       "      <td>2</td>\n",
       "      <td>1</td>\n",
       "      <td>...</td>\n",
       "      <td>1</td>\n",
       "      <td>3</td>\n",
       "      <td>0.0</td>\n",
       "      <td>0.0</td>\n",
       "      <td>Other</td>\n",
       "      <td>Served</td>\n",
       "      <td>Entertainment</td>\n",
       "      <td>SAL</td>\n",
       "      <td>0.0</td>\n",
       "      <td>Under 40</td>\n",
       "    </tr>\n",
       "    <tr>\n",
       "      <th>3</th>\n",
       "      <td>P</td>\n",
       "      <td>2018GQ0000081</td>\n",
       "      <td>1</td>\n",
       "      <td>2401</td>\n",
       "      <td>1013097</td>\n",
       "      <td>109</td>\n",
       "      <td>85</td>\n",
       "      <td>1</td>\n",
       "      <td>2</td>\n",
       "      <td>1</td>\n",
       "      <td>...</td>\n",
       "      <td>1</td>\n",
       "      <td>2</td>\n",
       "      <td>0.0</td>\n",
       "      <td>0.0</td>\n",
       "      <td>White</td>\n",
       "      <td>Served</td>\n",
       "      <td>None</td>\n",
       "      <td>None</td>\n",
       "      <td>68.0</td>\n",
       "      <td>65 and over</td>\n",
       "    </tr>\n",
       "    <tr>\n",
       "      <th>4</th>\n",
       "      <td>P</td>\n",
       "      <td>2018GQ0000103</td>\n",
       "      <td>1</td>\n",
       "      <td>1400</td>\n",
       "      <td>1013097</td>\n",
       "      <td>83</td>\n",
       "      <td>19</td>\n",
       "      <td>1</td>\n",
       "      <td>2</td>\n",
       "      <td>2</td>\n",
       "      <td>...</td>\n",
       "      <td>1</td>\n",
       "      <td>3</td>\n",
       "      <td>0.0</td>\n",
       "      <td>0.0</td>\n",
       "      <td>White</td>\n",
       "      <td>Served</td>\n",
       "      <td>Entertainment</td>\n",
       "      <td>ENT</td>\n",
       "      <td>0.0</td>\n",
       "      <td>Under 40</td>\n",
       "    </tr>\n",
       "  </tbody>\n",
       "</table>\n",
       "<p>5 rows × 196 columns</p>\n",
       "</div>"
      ],
      "text/plain": [
       "  RT_x       SERIALNO  SPORDER_x  PUMA_x  ADJINC_x  PWGTP_x  AGEP  CIT  DEYE  \\\n",
       "0    P  2018GQ0000012          1    3802   1013097      145    26    5     2   \n",
       "1    P  2018GQ0000040          1    2702   1013097       43    21    1     2   \n",
       "2    P  2018GQ0000060          1    2001   1013097       88    18    2     2   \n",
       "3    P  2018GQ0000081          1    2401   1013097      109    85    1     2   \n",
       "4    P  2018GQ0000103          1    1400   1013097       83    19    1     2   \n",
       "\n",
       "   HINS4  ... NP  TYPE FINCP  HINCP  RACES  MIL_STAT       INDUSTRY  \\\n",
       "0      2  ...  1     3   0.0    0.0  White    Served      Education   \n",
       "1      2  ...  1     3   0.0    0.0  White    Served  Entertainment   \n",
       "2      1  ...  1     3   0.0    0.0  Other    Served  Entertainment   \n",
       "3      1  ...  1     2   0.0    0.0  White    Served           None   \n",
       "4      2  ...  1     3   0.0    0.0  White    Served  Entertainment   \n",
       "\n",
       "   SOCP_recat  MAR_YEARS      AGE_cat  \n",
       "0         OFF        0.0     Under 40  \n",
       "1         EAT        0.0     Under 40  \n",
       "2         SAL        0.0     Under 40  \n",
       "3        None       68.0  65 and over  \n",
       "4         ENT        0.0     Under 40  \n",
       "\n",
       "[5 rows x 196 columns]"
      ]
     },
     "execution_count": 9,
     "metadata": {},
     "output_type": "execute_result"
    }
   ],
   "source": [
    "nys = helper.additional_feature_engineering(nys, house_df)\n",
    "del house_df\n",
    "display(nys.shape)\n",
    "nys.head()"
   ]
  },
  {
   "cell_type": "markdown",
   "metadata": {},
   "source": [
    "### Dropped Columns\n",
    "Columns were dropped for the following reasons:\n",
    "1. Columns seemed correlated with Health Insurance Coverage\n",
    "2. Columns seemed to be a repeat of other features\n",
    "3. Columns were allocation flags or value 'weights'\n",
    "For final columns utilized, please view the 'Final_Columns.txt'"
   ]
  },
  {
   "cell_type": "code",
   "execution_count": 10,
   "metadata": {},
   "outputs": [],
   "source": [
    "nys = helper.dropping_last_columns(nys)"
   ]
  },
  {
   "cell_type": "code",
   "execution_count": 11,
   "metadata": {},
   "outputs": [
    {
     "data": {
      "text/plain": [
       "(159299, 91)"
      ]
     },
     "execution_count": 11,
     "metadata": {},
     "output_type": "execute_result"
    }
   ],
   "source": [
    "nys.shape"
   ]
  },
  {
   "cell_type": "code",
   "execution_count": 12,
   "metadata": {},
   "outputs": [],
   "source": [
    "nys.to_csv('nys_cleaned.csv', index=False, header=True)"
   ]
  },
  {
   "cell_type": "markdown",
   "metadata": {},
   "source": [
    "### You can stop here for the fully cleaned data. Below are the statistical tests we conducted on the data"
   ]
  },
  {
   "cell_type": "markdown",
   "metadata": {},
   "source": [
    "### Kruskal-Whallis: non-parametric version of ANOVA"
   ]
  },
  {
   "cell_type": "code",
   "execution_count": null,
   "metadata": {},
   "outputs": [],
   "source": [
    "from scipy import stats\n",
    "\n",
    "# null: Insured Age Median == Not Insured Age Median\n",
    "# alt: Insured Age Median != Not Insured Age Median\n",
    "# alpha: 0.05\n",
    "stats.kruskal(_hicov1['AGEP'], _hicov2['AGEP'])\n",
    "\n",
    "# reject null in favor of alt. Age medians between two classes are DIFFERENT."
   ]
  },
  {
   "cell_type": "code",
   "execution_count": null,
   "metadata": {},
   "outputs": [],
   "source": [
    "# null: Insured Sex Proportion == Not Insured Sex Proportion\n",
    "# alt: Insured Sex Proportion != Not Insured Sex Proportion\n",
    "# alpha: 0.05\n",
    "stats.chi2_contingency(ct)\n",
    "# reject null in favor of alternative"
   ]
  },
  {
   "cell_type": "code",
   "execution_count": null,
   "metadata": {},
   "outputs": [],
   "source": [
    "# null: Insured Marriage Status Proportion == Not Insured Marriage Status Proportion\n",
    "# alt: Insured Marriage Status Proportionn != Not Insured Marriage Status Proportion\n",
    "# alpha: 0.05\n",
    "stats.chi2_contingency(ct)\n",
    "# reject null in favor of alternative"
   ]
  }
 ],
 "metadata": {
  "kernelspec": {
   "display_name": "Python 3",
   "language": "python",
   "name": "python3"
  },
  "language_info": {
   "codemirror_mode": {
    "name": "ipython",
    "version": 3
   },
   "file_extension": ".py",
   "mimetype": "text/x-python",
   "name": "python",
   "nbconvert_exporter": "python",
   "pygments_lexer": "ipython3",
   "version": "3.9.2"
  }
 },
 "nbformat": 4,
 "nbformat_minor": 4
}
